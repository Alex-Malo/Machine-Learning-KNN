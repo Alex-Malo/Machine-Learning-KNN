{
 "cells": [
  {
   "cell_type": "code",
   "execution_count": 36,
   "metadata": {
    "executionInfo": {
     "elapsed": 9154,
     "status": "ok",
     "timestamp": 1730968493754,
     "user": {
      "displayName": "Alex Malo",
      "userId": "18021773886670545549"
     },
     "user_tz": -60
    },
    "id": "RwtMNfuSwvBs"
   },
   "outputs": [],
   "source": [
    "import matplotlib.pylab as plt\n",
    "\n",
    "import pandas as pd\n",
    "import seaborn as sns\n",
    "import numpy as np\n",
    "import sklearn\n",
    "\n",
    "from sklearn.neighbors import KNeighborsClassifier\n",
    "from sklearn.model_selection import cross_val_score\n",
    "from sklearn.impute import KNNImputer, SimpleImputer\n",
    "from sklearn.preprocessing import StandardScaler\n",
    "import numpy as np\n",
    "\n",
    "np.random.seed(3123)"
   ]
  },
  {
   "cell_type": "code",
   "execution_count": 16,
   "metadata": {
    "executionInfo": {
     "elapsed": 415,
     "status": "ok",
     "timestamp": 1730973325549,
     "user": {
      "displayName": "Alex Malo",
      "userId": "18021773886670545549"
     },
     "user_tz": -60
    },
    "id": "tQAPeRpS-mqZ"
   },
   "outputs": [],
   "source": [
    "data=pd.read_csv('mimic_train.csv')\n",
    "mimic_diagnoses_df = pd.read_csv('MIMIC_diagnoses.csv')\n",
    "test=pd.read_csv('mimic_X_test.csv')"
   ]
  },
  {
   "cell_type": "markdown",
   "metadata": {},
   "source": [
    "Our first task is to join the main training dataset with the diagnoses file. Prior to that, we make sure both files have the same column names and then perform the joining function.  "
   ]
  },
  {
   "cell_type": "code",
   "execution_count": 17,
   "metadata": {},
   "outputs": [],
   "source": [
    "data=data.drop(columns='ICD9_diagnosis')\n",
    "#Rename some columns on the diagnoses file to match the main dataset\n",
    "mimic_diagnoses_df.rename(columns={'ICD9_CODE':'ICD9_diagnosis', 'SUBJECT_ID':'subject_id','HADM_ID':'hadm_id' }, inplace=True)"
   ]
  },
  {
   "cell_type": "code",
   "execution_count": 18,
   "metadata": {},
   "outputs": [],
   "source": [
    "data = data.merge(mimic_diagnoses_df[['subject_id', 'hadm_id', 'SEQ_NUM', 'ICD9_diagnosis']], on=['subject_id', 'hadm_id'], how='left')"
   ]
  },
  {
   "cell_type": "markdown",
   "metadata": {},
   "source": [
    "## DATA INSPECTION"
   ]
  },
  {
   "cell_type": "markdown",
   "metadata": {},
   "source": [
    "### AGE VARIABLE"
   ]
  },
  {
   "cell_type": "markdown",
   "metadata": {},
   "source": [
    "In our dataset, we have a column called `DOB` (Date of Birth), which contains the birth dates of the patients. Our objective is to derive an **age group** variable based on the patient's age, which will be used to understand the relationship between age and other variables in predicting the target (e.g., mortality rate)."
   ]
  },
  {
   "cell_type": "markdown",
   "metadata": {},
   "source": [
    "To do so, we will use the column 'ADMITTIME' (Admission time) and will substract 'DOB' (Date of Birth) to it in order to achieve the Age. "
   ]
  },
  {
   "cell_type": "code",
   "execution_count": 19,
   "metadata": {},
   "outputs": [],
   "source": [
    "# Ensure DOB is a string\n",
    "data['DOB'] = data['DOB'].astype(str)\n",
    "data['ADMITTIME']=data['ADMITTIME'].astype(str)\n",
    "test['DOB'] = test['DOB'].astype(str)\n",
    "test['ADMITTIME']=test['ADMITTIME'].astype(str)\n",
    "\n",
    "# Extract the first four characters for the year\n",
    "data['DOB'] = data['DOB'].str[:4].astype(int)\n",
    "data['ADMITTIME'] = data['ADMITTIME'].str[:4].astype(int)\n",
    "test['DOB'] = test['DOB'].str[:4].astype(int)\n",
    "test['ADMITTIME'] = test['ADMITTIME'].str[:4].astype(int)\n",
    "\n",
    "#Calculate the Age\n",
    "data['Age']=data['ADMITTIME']-data['DOB']\n",
    "test['Age']=test['ADMITTIME']-test['DOB']"
   ]
  },
  {
   "cell_type": "markdown",
   "metadata": {},
   "source": [
    "Now we plot the histogram to visualize the Age distribution"
   ]
  },
  {
   "cell_type": "code",
   "execution_count": 20,
   "metadata": {},
   "outputs": [
    {
     "data": {
      "image/png": "[encoded data removed]",
      "text/plain": [
       "<Figure size 640x480 with 1 Axes>"
      ]
     },
     "metadata": {},
     "output_type": "display_data"
    }
   ],
   "source": [
    "# Plot the histogram\n",
    "plt.hist(data['Age'], bins=30, edgecolor='black')\n",
    "plt.title('Age Distribution')\n",
    "plt.xlabel('Age')\n",
    "plt.ylabel('Frequency')\n",
    "plt.show()"
   ]
  },
  {
   "cell_type": "markdown",
   "metadata": {},
   "source": [
    "By cheking the MIMIC website, we can see that patients over 89 are given an age of 300. Taking this into consideration, the next step is to change those aged over 300, to age 90"
   ]
  },
  {
   "cell_type": "code",
   "execution_count": 21,
   "metadata": {},
   "outputs": [],
   "source": [
    "data['Age'] = data['Age'].apply(lambda x: 90 if x > 250 else x)\n",
    "test['Age'] = test['Age'].apply(lambda x: 90 if x > 250 else x)"
   ]
  },
  {
   "cell_type": "code",
   "execution_count": null,
   "metadata": {},
   "outputs": [],
   "source": [
    "# Define the age bins and labels\n",
    "age_bins = [0, 20, 40, 60, 80, float('inf')]  # Create 5 bins\n",
    "age_labels = ['0-19', '20-39', '40-59', '60-79', '80+']  # Labels for the bins\n",
    "\n",
    "# Create a new column for the age category\n",
    "data['Age_Category'] = pd.cut(data['Age'], bins=age_bins, labels=age_labels, right=False)\n",
    "test['Age_Category'] = pd.cut(test['Age'], bins=age_bins, labels=age_labels, right=False)\n",
    "\n",
    "# One-hot encode the Age_Category column to create dummy variables\n",
    "data = pd.get_dummies(data, columns=['Age_Category'], prefix='Age', drop_first=False)\n",
    "test = pd.get_dummies(test, columns=['Age_Category'], prefix='Age', drop_first=False)"
   ]
  },
  {
   "cell_type": "markdown",
   "metadata": {},
   "source": [
    "We start by checking out what variables each patient has, in order to find any non-essential columns that will not add any value to our model.  "
   ]
  },
  {
   "cell_type": "code",
   "execution_count": 9,
   "metadata": {},
   "outputs": [
    {
     "data": {
      "text/plain": [
       "Index(['Unnamed: 0', 'HOSPITAL_EXPIRE_FLAG', 'subject_id', 'hadm_id',\n",
       "       'icustay_id', 'HeartRate_Min', 'HeartRate_Max', 'HeartRate_Mean',\n",
       "       'SysBP_Min', 'SysBP_Max', 'SysBP_Mean', 'DiasBP_Min', 'DiasBP_Max',\n",
       "       'DiasBP_Mean', 'MeanBP_Min', 'MeanBP_Max', 'MeanBP_Mean',\n",
       "       'RespRate_Min', 'RespRate_Max', 'RespRate_Mean', 'TempC_Min',\n",
       "       'TempC_Max', 'TempC_Mean', 'SpO2_Min', 'SpO2_Max', 'SpO2_Mean',\n",
       "       'Glucose_Min', 'Glucose_Max', 'Glucose_Mean', 'GENDER', 'DOB', 'DOD',\n",
       "       'ADMITTIME', 'DISCHTIME', 'DEATHTIME', 'Diff', 'ADMISSION_TYPE',\n",
       "       'INSURANCE', 'RELIGION', 'MARITAL_STATUS', 'ETHNICITY', 'DIAGNOSIS',\n",
       "       'FIRST_CAREUNIT', 'LOS', 'SEQ_NUM', 'ICD9_diagnosis', 'Age', 'Age_0-19',\n",
       "       'Age_20-39', 'Age_40-59', 'Age_60-79', 'Age_80+'],\n",
       "      dtype='object')"
      ]
     },
     "execution_count": 9,
     "metadata": {},
     "output_type": "execute_result"
    }
   ],
   "source": [
    "data.columns"
   ]
  },
  {
   "cell_type": "markdown",
   "metadata": {
    "id": "noWJpuIhzGmh"
   },
   "source": [
    "Now we drop columns with categorical data that we predict will be of no use (e.g., marital_status, religion, etc.) and certain date columns that don't seem to have apparent use.\n",
    "\n",
    "Although a simple logistic regression based on the existence of a deathtime value and the hospital_expire_flag would yield 100% accuracy, we will drop the columns ['dod', 'dischtime', 'deathtime', 'los'] to maintain the focus on the exercise's purpose."
   ]
  },
  {
   "cell_type": "code",
   "execution_count": null,
   "metadata": {
    "executionInfo": {
     "elapsed": 231,
     "status": "ok",
     "timestamp": 1730969439208,
     "user": {
      "displayName": "Alex Malo",
      "userId": "18021773886670545549"
     },
     "user_tz": -60
    },
    "id": "V-5aL-bAz6AJ"
   },
   "outputs": [],
   "source": [
    "data.drop(columns=['DOD', 'Age',\n",
    "        'DISCHTIME', 'DEATHTIME', 'Diff', 'ADMISSION_TYPE',\n",
    "       'INSURANCE', 'RELIGION', 'MARITAL_STATUS', 'ETHNICITY', 'DIAGNOSIS', 'LOS', 'ADMITTIME', 'DOB', 'SEQ_NUM'],inplace=True)\n",
    "test.drop(columns=['DOD', 'Age',\n",
    "        'DISCHTIME', 'DEATHTIME', 'Diff', 'ADMISSION_TYPE',\n",
    "       'INSURANCE', 'RELIGION', 'MARITAL_STATUS', 'ETHNICITY', 'DIAGNOSIS', 'LOS', 'ADMITTIME', 'DOB'],inplace=True)"
   ]
  },
  {
   "cell_type": "markdown",
   "metadata": {
    "id": "vHwBrc4G0Z6F"
   },
   "source": [
    "After checking the data type of each column  ( to see if we should drop more columns, or dummify some others) with data.dtype, we  decide to convert gender and will further explore first_careunit to check if we could also use it."
   ]
  },
  {
   "cell_type": "code",
   "execution_count": 24,
   "metadata": {
    "colab": {
     "base_uri": "https://localhost:8080/"
    },
    "executionInfo": {
     "elapsed": 226,
     "status": "ok",
     "timestamp": 1730969658026,
     "user": {
      "displayName": "Alex Malo",
      "userId": "18021773886670545549"
     },
     "user_tz": -60
    },
    "id": "N9Al57xl0ZgX",
    "outputId": "edb18815-a10e-4f8b-b58c-80e8e42926a2"
   },
   "outputs": [
    {
     "data": {
      "text/plain": [
       "5"
      ]
     },
     "execution_count": 24,
     "metadata": {},
     "output_type": "execute_result"
    }
   ],
   "source": [
    "data['FIRST_CAREUNIT'].nunique()"
   ]
  },
  {
   "cell_type": "markdown",
   "metadata": {
    "id": "aQDFUpUQ1PyO"
   },
   "source": [
    "Given that there are only 5 different values in the column, we can easily dummify it to gain some additional information for our regression. Because we will run a KNN later, it is best to dummify categorical values rather than encoding them with single integer values, as we know that KNN relies on distance and could misinterpret 1 closer to 2 than to 5."
   ]
  },
  {
   "cell_type": "code",
   "execution_count": 25,
   "metadata": {
    "executionInfo": {
     "elapsed": 260,
     "status": "ok",
     "timestamp": 1730970171429,
     "user": {
      "displayName": "Alex Malo",
      "userId": "18021773886670545549"
     },
     "user_tz": -60
    },
    "id": "Cvbabj_o0hxN"
   },
   "outputs": [],
   "source": [
    "# Convert the GENDER column to dummy variables\n",
    "data_gender = pd.get_dummies(data, columns=['GENDER'], prefix='Gender')\n",
    "test_gender = pd.get_dummies(test, columns=['GENDER'], prefix='Gender')\n",
    "# Convert the FIRAST_CAREUNIT column to dummy variables\n",
    "data_with_dummies = pd.get_dummies(data_gender, columns=['FIRST_CAREUNIT'], prefix='CareUnit')\n",
    "test_with_dummies = pd.get_dummies(test_gender, columns=['FIRST_CAREUNIT'], prefix='CareUnit')"
   ]
  },
  {
   "cell_type": "markdown",
   "metadata": {},
   "source": [
    "We must now deal with our most important variable for each patient, its diagnosis. The best approach considered would be to dummify the variable ICD9_diagnosis, but for large datasets with too many different ICD9 values, this would dangerously increase computational time, so we want to avoid it. \n",
    "\n",
    "Instead, we target encode ICD9_diagnosis, replacing each unique category with the average target variable for that diagnosis, which will be the mortality rate. For that, we must group the categories and calculate their mortality rates, to later substitute the icd9_diagnosis category by its mortality rate.  "
   ]
  },
  {
   "cell_type": "code",
   "execution_count": 26,
   "metadata": {},
   "outputs": [
    {
     "name": "stderr",
     "output_type": "stream",
     "text": [
      "/tmp/ipykernel_3509/2417969153.py:6: FutureWarning: A value is trying to be set on a copy of a DataFrame or Series through chained assignment using an inplace method.\n",
      "The behavior will change in pandas 3.0. This inplace method will never work because the intermediate object on which we are setting values always behaves as a copy.\n",
      "\n",
      "For example, when doing 'df[col].method(value, inplace=True)', try using 'df.method({col: value}, inplace=True)' or df[col] = df[col].method(value) instead, to perform the operation inplace on the original object.\n",
      "\n",
      "\n",
      "  data_with_dummies['mortality_rate'].fillna(0, inplace=True)\n"
     ]
    }
   ],
   "source": [
    "# Step 1: Calculate mortality rates for all ICD9 codes\n",
    "icd9_target_encoding = data_with_dummies.groupby('ICD9_diagnosis')['HOSPITAL_EXPIRE_FLAG'].mean()\n",
    "\n",
    "# Step 2: Map the mortality rates to mimic_diagnoses\n",
    "data_with_dummies['mortality_rate'] = data_with_dummies['ICD9_diagnosis'].map(icd9_target_encoding)\n",
    "data_with_dummies['mortality_rate'].fillna(0, inplace=True)\n",
    "\n",
    "# Step 3: Aggregate by hadm_id to find the max mortality rate for each hadm_id\n",
    "max_mortality_rates = data_with_dummies.groupby('hadm_id')['mortality_rate'].max()\n",
    "\n",
    "# Step 4: Map the max mortality rate back to data_with_dummies using hadm_id\n",
    "data_with_dummies['mortality_rate'] = data_with_dummies['hadm_id'].map(max_mortality_rates)\n",
    "\n"
   ]
  },
  {
   "cell_type": "markdown",
   "metadata": {},
   "source": [
    "### FREQUENCY ENCODING EACH ICD9_DIAGNOSIS"
   ]
  },
  {
   "cell_type": "code",
   "execution_count": null,
   "metadata": {},
   "outputs": [],
   "source": [
    "# Step 1: Calculate the frequency of each ICD9_CODE\n",
    "icd9_frequency_encoding = data_with_dummies['ICD9_diagnosis'].value_counts(normalize=True)\n",
    "\n",
    "# Step 2: Map the frequencies to mimic_diagnoses\n",
    "data_with_dummies['ICD9_frequency'] = data_with_dummies['ICD9_diagnosis'].map(icd9_frequency_encoding)\n",
    "# Step 5: Drop the original ICD9_diagnosis column if no longer needed\n",
    "data_with_dummies.drop(columns=['ICD9_diagnosis'], inplace=True, errors='ignore')\n",
    "test_with_dummies.drop(columns=['ICD9_diagnosis'], inplace=True, errors='ignore')"
   ]
  },
  {
   "cell_type": "code",
   "execution_count": 30,
   "metadata": {},
   "outputs": [
    {
     "data": {
      "text/html": [
       "<div>\n",
       "<style scoped>\n",
       "    .dataframe tbody tr th:only-of-type {\n",
       "        vertical-align: middle;\n",
       "    }\n",
       "\n",
       "    .dataframe tbody tr th {\n",
       "        vertical-align: top;\n",
       "    }\n",
       "\n",
       "    .dataframe thead th {\n",
       "        text-align: right;\n",
       "    }\n",
       "</style>\n",
       "<table border=\"1\" class=\"dataframe\">\n",
       "  <thead>\n",
       "    <tr style=\"text-align: right;\">\n",
       "      <th></th>\n",
       "      <th>Unnamed: 0</th>\n",
       "      <th>HOSPITAL_EXPIRE_FLAG</th>\n",
       "      <th>subject_id</th>\n",
       "      <th>hadm_id</th>\n",
       "      <th>icustay_id</th>\n",
       "      <th>HeartRate_Min</th>\n",
       "      <th>HeartRate_Max</th>\n",
       "      <th>HeartRate_Mean</th>\n",
       "      <th>SysBP_Min</th>\n",
       "      <th>SysBP_Max</th>\n",
       "      <th>...</th>\n",
       "      <th>Age_80+</th>\n",
       "      <th>Gender_F</th>\n",
       "      <th>Gender_M</th>\n",
       "      <th>CareUnit_CCU</th>\n",
       "      <th>CareUnit_CSRU</th>\n",
       "      <th>CareUnit_MICU</th>\n",
       "      <th>CareUnit_SICU</th>\n",
       "      <th>CareUnit_TSICU</th>\n",
       "      <th>mortality_rate</th>\n",
       "      <th>ICD9_frequency</th>\n",
       "    </tr>\n",
       "  </thead>\n",
       "  <tbody>\n",
       "    <tr>\n",
       "      <th>0</th>\n",
       "      <td>6733</td>\n",
       "      <td>0</td>\n",
       "      <td>77502</td>\n",
       "      <td>151200</td>\n",
       "      <td>299699</td>\n",
       "      <td>89.0</td>\n",
       "      <td>116.0</td>\n",
       "      <td>102.677419</td>\n",
       "      <td>97.0</td>\n",
       "      <td>150.0</td>\n",
       "      <td>...</td>\n",
       "      <td>False</td>\n",
       "      <td>True</td>\n",
       "      <td>False</td>\n",
       "      <td>False</td>\n",
       "      <td>False</td>\n",
       "      <td>True</td>\n",
       "      <td>False</td>\n",
       "      <td>False</td>\n",
       "      <td>0.254902</td>\n",
       "      <td>0.001716</td>\n",
       "    </tr>\n",
       "    <tr>\n",
       "      <th>1</th>\n",
       "      <td>6733</td>\n",
       "      <td>0</td>\n",
       "      <td>77502</td>\n",
       "      <td>151200</td>\n",
       "      <td>299699</td>\n",
       "      <td>89.0</td>\n",
       "      <td>116.0</td>\n",
       "      <td>102.677419</td>\n",
       "      <td>97.0</td>\n",
       "      <td>150.0</td>\n",
       "      <td>...</td>\n",
       "      <td>False</td>\n",
       "      <td>True</td>\n",
       "      <td>False</td>\n",
       "      <td>False</td>\n",
       "      <td>False</td>\n",
       "      <td>True</td>\n",
       "      <td>False</td>\n",
       "      <td>False</td>\n",
       "      <td>0.254902</td>\n",
       "      <td>0.000858</td>\n",
       "    </tr>\n",
       "    <tr>\n",
       "      <th>2</th>\n",
       "      <td>6733</td>\n",
       "      <td>0</td>\n",
       "      <td>77502</td>\n",
       "      <td>151200</td>\n",
       "      <td>299699</td>\n",
       "      <td>89.0</td>\n",
       "      <td>116.0</td>\n",
       "      <td>102.677419</td>\n",
       "      <td>97.0</td>\n",
       "      <td>150.0</td>\n",
       "      <td>...</td>\n",
       "      <td>False</td>\n",
       "      <td>True</td>\n",
       "      <td>False</td>\n",
       "      <td>False</td>\n",
       "      <td>False</td>\n",
       "      <td>True</td>\n",
       "      <td>False</td>\n",
       "      <td>False</td>\n",
       "      <td>0.254902</td>\n",
       "      <td>0.002944</td>\n",
       "    </tr>\n",
       "    <tr>\n",
       "      <th>3</th>\n",
       "      <td>6733</td>\n",
       "      <td>0</td>\n",
       "      <td>77502</td>\n",
       "      <td>151200</td>\n",
       "      <td>299699</td>\n",
       "      <td>89.0</td>\n",
       "      <td>116.0</td>\n",
       "      <td>102.677419</td>\n",
       "      <td>97.0</td>\n",
       "      <td>150.0</td>\n",
       "      <td>...</td>\n",
       "      <td>False</td>\n",
       "      <td>True</td>\n",
       "      <td>False</td>\n",
       "      <td>False</td>\n",
       "      <td>False</td>\n",
       "      <td>True</td>\n",
       "      <td>False</td>\n",
       "      <td>False</td>\n",
       "      <td>0.254902</td>\n",
       "      <td>0.002641</td>\n",
       "    </tr>\n",
       "    <tr>\n",
       "      <th>4</th>\n",
       "      <td>6733</td>\n",
       "      <td>0</td>\n",
       "      <td>77502</td>\n",
       "      <td>151200</td>\n",
       "      <td>299699</td>\n",
       "      <td>89.0</td>\n",
       "      <td>116.0</td>\n",
       "      <td>102.677419</td>\n",
       "      <td>97.0</td>\n",
       "      <td>150.0</td>\n",
       "      <td>...</td>\n",
       "      <td>False</td>\n",
       "      <td>True</td>\n",
       "      <td>False</td>\n",
       "      <td>False</td>\n",
       "      <td>False</td>\n",
       "      <td>True</td>\n",
       "      <td>False</td>\n",
       "      <td>False</td>\n",
       "      <td>0.254902</td>\n",
       "      <td>0.002431</td>\n",
       "    </tr>\n",
       "    <tr>\n",
       "      <th>5</th>\n",
       "      <td>6733</td>\n",
       "      <td>0</td>\n",
       "      <td>77502</td>\n",
       "      <td>151200</td>\n",
       "      <td>299699</td>\n",
       "      <td>89.0</td>\n",
       "      <td>116.0</td>\n",
       "      <td>102.677419</td>\n",
       "      <td>97.0</td>\n",
       "      <td>150.0</td>\n",
       "      <td>...</td>\n",
       "      <td>False</td>\n",
       "      <td>True</td>\n",
       "      <td>False</td>\n",
       "      <td>False</td>\n",
       "      <td>False</td>\n",
       "      <td>True</td>\n",
       "      <td>False</td>\n",
       "      <td>False</td>\n",
       "      <td>0.254902</td>\n",
       "      <td>0.000496</td>\n",
       "    </tr>\n",
       "    <tr>\n",
       "      <th>6</th>\n",
       "      <td>6733</td>\n",
       "      <td>0</td>\n",
       "      <td>77502</td>\n",
       "      <td>151200</td>\n",
       "      <td>299699</td>\n",
       "      <td>89.0</td>\n",
       "      <td>116.0</td>\n",
       "      <td>102.677419</td>\n",
       "      <td>97.0</td>\n",
       "      <td>150.0</td>\n",
       "      <td>...</td>\n",
       "      <td>False</td>\n",
       "      <td>True</td>\n",
       "      <td>False</td>\n",
       "      <td>False</td>\n",
       "      <td>False</td>\n",
       "      <td>True</td>\n",
       "      <td>False</td>\n",
       "      <td>False</td>\n",
       "      <td>0.254902</td>\n",
       "      <td>0.017370</td>\n",
       "    </tr>\n",
       "    <tr>\n",
       "      <th>7</th>\n",
       "      <td>6733</td>\n",
       "      <td>0</td>\n",
       "      <td>77502</td>\n",
       "      <td>151200</td>\n",
       "      <td>299699</td>\n",
       "      <td>89.0</td>\n",
       "      <td>116.0</td>\n",
       "      <td>102.677419</td>\n",
       "      <td>97.0</td>\n",
       "      <td>150.0</td>\n",
       "      <td>...</td>\n",
       "      <td>False</td>\n",
       "      <td>True</td>\n",
       "      <td>False</td>\n",
       "      <td>False</td>\n",
       "      <td>False</td>\n",
       "      <td>True</td>\n",
       "      <td>False</td>\n",
       "      <td>False</td>\n",
       "      <td>0.254902</td>\n",
       "      <td>0.003281</td>\n",
       "    </tr>\n",
       "    <tr>\n",
       "      <th>8</th>\n",
       "      <td>6733</td>\n",
       "      <td>0</td>\n",
       "      <td>77502</td>\n",
       "      <td>151200</td>\n",
       "      <td>299699</td>\n",
       "      <td>89.0</td>\n",
       "      <td>116.0</td>\n",
       "      <td>102.677419</td>\n",
       "      <td>97.0</td>\n",
       "      <td>150.0</td>\n",
       "      <td>...</td>\n",
       "      <td>False</td>\n",
       "      <td>True</td>\n",
       "      <td>False</td>\n",
       "      <td>False</td>\n",
       "      <td>False</td>\n",
       "      <td>True</td>\n",
       "      <td>False</td>\n",
       "      <td>False</td>\n",
       "      <td>0.254902</td>\n",
       "      <td>0.002187</td>\n",
       "    </tr>\n",
       "    <tr>\n",
       "      <th>9</th>\n",
       "      <td>6733</td>\n",
       "      <td>0</td>\n",
       "      <td>77502</td>\n",
       "      <td>151200</td>\n",
       "      <td>299699</td>\n",
       "      <td>89.0</td>\n",
       "      <td>116.0</td>\n",
       "      <td>102.677419</td>\n",
       "      <td>97.0</td>\n",
       "      <td>150.0</td>\n",
       "      <td>...</td>\n",
       "      <td>False</td>\n",
       "      <td>True</td>\n",
       "      <td>False</td>\n",
       "      <td>False</td>\n",
       "      <td>False</td>\n",
       "      <td>True</td>\n",
       "      <td>False</td>\n",
       "      <td>False</td>\n",
       "      <td>0.254902</td>\n",
       "      <td>0.012222</td>\n",
       "    </tr>\n",
       "  </tbody>\n",
       "</table>\n",
       "<p>10 rows × 43 columns</p>\n",
       "</div>"
      ],
      "text/plain": [
       "   Unnamed: 0  HOSPITAL_EXPIRE_FLAG  subject_id  hadm_id  icustay_id  \\\n",
       "0        6733                     0       77502   151200      299699   \n",
       "1        6733                     0       77502   151200      299699   \n",
       "2        6733                     0       77502   151200      299699   \n",
       "3        6733                     0       77502   151200      299699   \n",
       "4        6733                     0       77502   151200      299699   \n",
       "5        6733                     0       77502   151200      299699   \n",
       "6        6733                     0       77502   151200      299699   \n",
       "7        6733                     0       77502   151200      299699   \n",
       "8        6733                     0       77502   151200      299699   \n",
       "9        6733                     0       77502   151200      299699   \n",
       "\n",
       "   HeartRate_Min  HeartRate_Max  HeartRate_Mean  SysBP_Min  SysBP_Max  ...  \\\n",
       "0           89.0          116.0      102.677419       97.0      150.0  ...   \n",
       "1           89.0          116.0      102.677419       97.0      150.0  ...   \n",
       "2           89.0          116.0      102.677419       97.0      150.0  ...   \n",
       "3           89.0          116.0      102.677419       97.0      150.0  ...   \n",
       "4           89.0          116.0      102.677419       97.0      150.0  ...   \n",
       "5           89.0          116.0      102.677419       97.0      150.0  ...   \n",
       "6           89.0          116.0      102.677419       97.0      150.0  ...   \n",
       "7           89.0          116.0      102.677419       97.0      150.0  ...   \n",
       "8           89.0          116.0      102.677419       97.0      150.0  ...   \n",
       "9           89.0          116.0      102.677419       97.0      150.0  ...   \n",
       "\n",
       "   Age_80+  Gender_F  Gender_M  CareUnit_CCU  CareUnit_CSRU  CareUnit_MICU  \\\n",
       "0    False      True     False         False          False           True   \n",
       "1    False      True     False         False          False           True   \n",
       "2    False      True     False         False          False           True   \n",
       "3    False      True     False         False          False           True   \n",
       "4    False      True     False         False          False           True   \n",
       "5    False      True     False         False          False           True   \n",
       "6    False      True     False         False          False           True   \n",
       "7    False      True     False         False          False           True   \n",
       "8    False      True     False         False          False           True   \n",
       "9    False      True     False         False          False           True   \n",
       "\n",
       "   CareUnit_SICU  CareUnit_TSICU  mortality_rate  ICD9_frequency  \n",
       "0          False           False        0.254902        0.001716  \n",
       "1          False           False        0.254902        0.000858  \n",
       "2          False           False        0.254902        0.002944  \n",
       "3          False           False        0.254902        0.002641  \n",
       "4          False           False        0.254902        0.002431  \n",
       "5          False           False        0.254902        0.000496  \n",
       "6          False           False        0.254902        0.017370  \n",
       "7          False           False        0.254902        0.003281  \n",
       "8          False           False        0.254902        0.002187  \n",
       "9          False           False        0.254902        0.012222  \n",
       "\n",
       "[10 rows x 43 columns]"
      ]
     },
     "execution_count": 30,
     "metadata": {},
     "output_type": "execute_result"
    }
   ],
   "source": [
    "data_with_dummies.head(10)"
   ]
  },
  {
   "cell_type": "markdown",
   "metadata": {},
   "source": [
    "### Steps followed during target encoding\n",
    "1. *Group by ICD9_diagnosis*: We first group the data by the ICD9_diagnosis column, which contains the diagnosis codes, and calculate the mean of HOSPITAL_EXPIRE_FLAG for each group. This gives us the mortality rate (the probability of death) for each unique diagnosis code.\n",
    "\n",
    "2. *Map the encoding back to the dataset*: We then map these calculated mortality rates back to the ICD9_diagnosis column in the original dataframe, creating a new column ICD9_mortality_rate.\n",
    "\n",
    "Finally, we drop the original ICD9_diagnosis, which will be of no more use.\n",
    "\n"
   ]
  },
  {
   "cell_type": "markdown",
   "metadata": {},
   "source": [
    "To avoid running into Nans when applying the target encoding technique into the testing dataset, we calculate the overall mean mortality rate (for the entire training dataset) and apply it to any unrecognised icd9 diagnoses from the testing dataset. "
   ]
  },
  {
   "cell_type": "markdown",
   "metadata": {
    "id": "_6daWGtf3VyR"
   },
   "source": [
    "## MISSING DATA."
   ]
  },
  {
   "cell_type": "code",
   "execution_count": 35,
   "metadata": {
    "colab": {
     "base_uri": "https://localhost:8080/"
    },
    "executionInfo": {
     "elapsed": 238,
     "status": "ok",
     "timestamp": 1730970421551,
     "user": {
      "displayName": "Alex Malo",
      "userId": "18021773886670545549"
     },
     "user_tz": -60
    },
    "id": "SiSaoWM43aNW",
    "outputId": "befcfa96-c5d6-4acc-982b-6a36a6f53d64"
   },
   "outputs": [
    {
     "name": "stdout",
     "output_type": "stream",
     "text": [
      "(118884, 43)\n",
      "Unnamed: 0                  0\n",
      "HOSPITAL_EXPIRE_FLAG        0\n",
      "subject_id                  0\n",
      "hadm_id                     0\n",
      "icustay_id                  0\n",
      "HeartRate_Min           10538\n",
      "HeartRate_Max           10538\n",
      "HeartRate_Mean          10538\n",
      "SysBP_Min               10646\n",
      "SysBP_Max               10646\n",
      "SysBP_Mean              10646\n",
      "DiasBP_Min              10646\n",
      "DiasBP_Max              10646\n",
      "DiasBP_Mean             10646\n",
      "MeanBP_Min              10542\n",
      "MeanBP_Max              10542\n",
      "MeanBP_Mean             10542\n",
      "RespRate_Min            10556\n",
      "RespRate_Max            10556\n",
      "RespRate_Mean           10556\n",
      "TempC_Min               12429\n",
      "TempC_Max               12429\n",
      "TempC_Mean              12429\n",
      "SpO2_Min                10649\n",
      "SpO2_Max                10649\n",
      "SpO2_Mean               10649\n",
      "Glucose_Min              1029\n",
      "Glucose_Max              1029\n",
      "Glucose_Mean             1029\n",
      "Age_0-19                    0\n",
      "dtype: int64\n"
     ]
    }
   ],
   "source": [
    "print(data_with_dummies.shape)\n",
    "print(data_with_dummies.iloc[:,:30].isnull().sum()\n",
    "      )"
   ]
  },
  {
   "cell_type": "markdown",
   "metadata": {
    "id": "s3VVo_t74eou"
   },
   "source": [
    "Seeing that no column has over 15% of Nan's, we will not drop any of them, but rather fill the gaps with different methods.\n",
    "\n",
    "### METHOD 1\n",
    "\n",
    "For Glucose levels, because there are very few missing rows, we will simply fill them with the mean of the other values, which will not significantly deviate  the variance"
   ]
  },
  {
   "cell_type": "code",
   "execution_count": 38,
   "metadata": {
    "executionInfo": {
     "elapsed": 235,
     "status": "ok",
     "timestamp": 1730972185068,
     "user": {
      "displayName": "Alex Malo",
      "userId": "18021773886670545549"
     },
     "user_tz": -60
    },
    "id": "dhoh_4L676uX"
   },
   "outputs": [],
   "source": [
    "from sklearn.impute import SimpleImputer\n",
    "glucose_columns = ['Glucose_Min', 'Glucose_Max', 'Glucose_Mean']\n",
    "\n",
    "# Initialize the imputer for mean imputation\n",
    "imp_mean = SimpleImputer(missing_values=np.nan, strategy='mean')\n",
    "\n",
    "# Fit the imputer on the glucose columns and transform them\n",
    "data_glucose_imputed = imp_mean.fit_transform(data_with_dummies[glucose_columns])\n",
    "test_glucose_imputed = imp_mean.fit_transform(test_with_dummies[glucose_columns])\n",
    "\n",
    "# Convert the result back to a DataFrame and assign it back to the original columns\n",
    "data_with_dummies[glucose_columns] = pd.DataFrame(data_glucose_imputed, columns=glucose_columns)\n",
    "test_with_dummies[glucose_columns] = pd.DataFrame(test_glucose_imputed, columns=glucose_columns)\n"
   ]
  },
  {
   "cell_type": "markdown",
   "metadata": {
    "id": "GdDuBfFFEKr8"
   },
   "source": [
    "To fill the rest of the missing data, the best approach we find is to run a linear regression or a knn taking the age and gender into account, which we consider will affect most for remaining variables such as heart rate, respiration rate, etc."
   ]
  },
  {
   "cell_type": "markdown",
   "metadata": {},
   "source": [
    "### METHOD 2"
   ]
  },
  {
   "cell_type": "markdown",
   "metadata": {
    "id": "4i3VxCdrLvUa"
   },
   "source": [
    "A linear regression imputation taking all other columns into account would be impossible because most of the columns have missing values themselves, which makes it impossible to, for instance, impute heart rate regressing it on other variables such as respiration rate.\n",
    "\n",
    "Therefore, we will run a KNN, standardizing variable 'Age' (TAKES AROUND 20 MINS TO RUN)"
   ]
  },
  {
   "cell_type": "code",
   "execution_count": 37,
   "metadata": {},
   "outputs": [],
   "source": [
    "# Step 1: Identify numerical columns\n",
    "numerical_columns = data_with_dummies.select_dtypes(include=['number']).columns\n",
    "\n",
    "# Step 2: Initialize the median imputer\n",
    "median_imputer = SimpleImputer(strategy='median')\n",
    "\n",
    "# Step 3: Apply the imputer only to numerical columns\n",
    "data_with_dummies[numerical_columns] = median_imputer.fit_transform(data_with_dummies[numerical_columns])"
   ]
  },
  {
   "cell_type": "code",
   "execution_count": 40,
   "metadata": {
    "colab": {
     "base_uri": "https://localhost:8080/",
     "height": 1000
    },
    "executionInfo": {
     "elapsed": 326,
     "status": "ok",
     "timestamp": 1730976254824,
     "user": {
      "displayName": "Alex Malo",
      "userId": "18021773886670545549"
     },
     "user_tz": -60
    },
    "id": "1b80jovLOT0S",
    "outputId": "e297765e-f5d9-46e7-f32d-cb7b927ab3e0"
   },
   "outputs": [
    {
     "name": "stdout",
     "output_type": "stream",
     "text": [
      "(118884, 43)\n"
     ]
    },
    {
     "data": {
      "text/plain": [
       "Unnamed: 0              0\n",
       "HOSPITAL_EXPIRE_FLAG    0\n",
       "subject_id              0\n",
       "hadm_id                 0\n",
       "icustay_id              0\n",
       "HeartRate_Min           0\n",
       "HeartRate_Max           0\n",
       "HeartRate_Mean          0\n",
       "SysBP_Min               0\n",
       "SysBP_Max               0\n",
       "SysBP_Mean              0\n",
       "DiasBP_Min              0\n",
       "DiasBP_Max              0\n",
       "DiasBP_Mean             0\n",
       "MeanBP_Min              0\n",
       "MeanBP_Max              0\n",
       "MeanBP_Mean             0\n",
       "RespRate_Min            0\n",
       "RespRate_Max            0\n",
       "RespRate_Mean           0\n",
       "TempC_Min               0\n",
       "TempC_Max               0\n",
       "TempC_Mean              0\n",
       "SpO2_Min                0\n",
       "SpO2_Max                0\n",
       "SpO2_Mean               0\n",
       "Glucose_Min             0\n",
       "Glucose_Max             0\n",
       "Glucose_Mean            0\n",
       "Age_0-19                0\n",
       "Age_20-39               0\n",
       "Age_40-59               0\n",
       "Age_60-79               0\n",
       "Age_80+                 0\n",
       "Gender_F                0\n",
       "Gender_M                0\n",
       "CareUnit_CCU            0\n",
       "CareUnit_CSRU           0\n",
       "dtype: int64"
      ]
     },
     "execution_count": 40,
     "metadata": {},
     "output_type": "execute_result"
    }
   ],
   "source": [
    "print(data_with_dummies.shape)\n",
    "data_with_dummies.iloc[:,:38].isnull().sum()"
   ]
  },
  {
   "cell_type": "markdown",
   "metadata": {},
   "source": [
    "Once all data is ready to be fitted into a model, we first separate the training data into X and Y"
   ]
  },
  {
   "cell_type": "code",
   "execution_count": 41,
   "metadata": {
    "colab": {
     "base_uri": "https://localhost:8080/",
     "height": 185
    },
    "executionInfo": {
     "elapsed": 279,
     "status": "error",
     "timestamp": 1730975678065,
     "user": {
      "displayName": "Alex Malo",
      "userId": "18021773886670545549"
     },
     "user_tz": -60
    },
    "id": "g1sSDL942cwd",
    "outputId": "74d8b1f0-754a-40da-d71b-263406f75c48"
   },
   "outputs": [],
   "source": [
    "# Split data_no_missing into features and target\n",
    "X_train = data_with_dummies.drop(columns=['HOSPITAL_EXPIRE_FLAG'])\n",
    "y_train = data_with_dummies['HOSPITAL_EXPIRE_FLAG']"
   ]
  },
  {
   "cell_type": "code",
   "execution_count": 42,
   "metadata": {
    "id": "tzrxvn005gz7"
   },
   "outputs": [],
   "source": [
    "from sklearn.neighbors import KNeighborsClassifier\n",
    "from sklearn.metrics import accuracy_score, roc_auc_score"
   ]
  },
  {
   "cell_type": "markdown",
   "metadata": {},
   "source": [
    "Now almost everything is set to fit our model, which will be a KNN. We want to experiment with the number of neighbors to take into account in our KNN model (optimal_k), and the different weights we will apply to our features. \n",
    "\n",
    "For computational purposes, we firstly fix our weights (with values we guessed) and find optimal_k. Once we have found it, we proceed to experiment with different weights to check for the best results. "
   ]
  },
  {
   "cell_type": "markdown",
   "metadata": {},
   "source": [
    "The knn runs with the 'Brute force' algorithm, as after trying the 'Ball tree' to reduce the computation time, no results seemed to be achieved. \n",
    "\n",
    "For a series of k values presented below, we run a cross validation with 5 folds and store the score in a list, from which we later plot the results and find the best k. "
   ]
  },
  {
   "cell_type": "code",
   "execution_count": 45,
   "metadata": {},
   "outputs": [
    {
     "name": "stdout",
     "output_type": "stream",
     "text": [
      "Optimal number of neighbors: 120\n"
     ]
    },
    {
     "data": {
      "image/png": "[encoded data removed]",
      "text/plain": [
       "<Figure size 640x480 with 1 Axes>"
      ]
     },
     "metadata": {},
     "output_type": "display_data"
    }
   ],
   "source": [
    "# Scale the data to ensure comparable feature scales\n",
    "scaler = StandardScaler()\n",
    "X_train_scaled = scaler.fit_transform(X_train)\n",
    "\n",
    "# Locate the column indexes for each variable\n",
    "icd9_index = X_train.columns.get_loc('mortality_rate')\n",
    "gender_m_index = X_train.columns.get_loc('Gender_M')\n",
    "gender_f_index = X_train.columns.get_loc('Gender_F')\n",
    "\n",
    "# Apply the weights by multiplying the corresponding columns\n",
    "X_train_scaled[:, icd9_index] *= 7  # Increase weight of ICD9_mortality_rate by a factor of 7\n",
    "X_train_scaled[:, gender_m_index] *= 2  # Increase weight of Gender by a factor of 2\n",
    "X_train_scaled[:, gender_f_index] *= 2\n",
    "\n",
    "\n",
    "# Range of K values to test\n",
    "k_values = list(range(1, 20, 2)) + list(range(20,126, 25)) \n",
    "\n",
    "# List to store cross-validation scores for each K\n",
    "cv_scores = []\n",
    "\n",
    "# Loop through each K value\n",
    "for k in k_values:\n",
    "    # Define the KNN model with the current K value\n",
    "    knn_model = KNeighborsClassifier(n_neighbors=k)\n",
    "    \n",
    "    # Perform cross-validation and calculate the mean accuracy\n",
    "    scores = cross_val_score(knn_model, X_train_scaled, y_train, cv=5, scoring='accuracy')\n",
    "    cv_scores.append(scores.mean())\n",
    "\n",
    "# Determine the optimal K (the one with the highest mean cross-validation accuracy)\n",
    "optimal_k = k_values[np.argmax(cv_scores)]\n",
    "print(f\"Optimal number of neighbors: {optimal_k}\")\n",
    "\n",
    "# Plotting the results\n",
    "plt.plot(k_values, cv_scores, marker='o')\n",
    "plt.xlabel('Number of Neighbors K')\n",
    "plt.ylabel('Cross-Validated Accuracy')\n",
    "plt.title('KNN Cross-Validation Accuracy for Different K Values')\n",
    "plt.show()"
   ]
  },
  {
   "cell_type": "markdown",
   "metadata": {},
   "source": [
    "After having found an aproximate optimium k, we now search for the optimum weights. For that, we will try three different values for our icd9_moratlity_rate, gender and age. It is believed that the most important feature is the mortality rate of the icd9 diagnosis a patient presents, so that will be our most important factor. Age and gender are also believed to be more important than other factors, so will have some weight as well. "
   ]
  },
  {
   "cell_type": "code",
   "execution_count": null,
   "metadata": {},
   "outputs": [
    {
     "name": "stdout",
     "output_type": "stream",
     "text": [
      "    ICD9_mortality_rate_weight  Gender_weight  Age_weight  AUC_score\n",
      "9                           10              1           2   0.858206\n",
      "10                          10              1           4   0.858206\n",
      "11                          10              1           6   0.858206\n",
      "22                          15              2           4   0.857126\n",
      "21                          15              2           2   0.857126\n",
      "23                          15              2           6   0.857126\n",
      "24                          15              3           2   0.855799\n",
      "25                          15              3           4   0.855799\n",
      "26                          15              3           6   0.855799\n",
      "18                          15              1           2   0.855169\n"
     ]
    }
   ],
   "source": [
    "# Define ranges for weights to test\n",
    "icd9_weights = [7, 10, 15]  # Sample weights for 'ICD9_mortality_rate'\n",
    "gender_weights = [1, 2, 3]  # Sample weights for 'Gender'\n",
    "\n",
    "# Store results\n",
    "weight_results = []\n",
    "\n",
    "# Loop through each combination of weights\n",
    "for icd9_w in icd9_weights:\n",
    "    for gender_w in gender_weights:    \n",
    "        # Scale data with specified weights\n",
    "        X_train_scaled = scaler.fit_transform(X_train) #normalize all of the data\n",
    "        X_train_scaled[:, icd9_index] *= icd9_w\n",
    "        X_train_scaled[:, gender_m_index] *= gender_w\n",
    "        X_train_scaled[:, gender_f_index] *= gender_w            \n",
    "\n",
    "        # Run KNN with optimal K=95\n",
    "        knn_model = KNeighborsClassifier(n_neighbors=120)\n",
    "        auc_scores = cross_val_score(knn_model, X_train_scaled, y_train, cv=5, scoring='roc_auc')\n",
    "        mean_auc = auc_scores.mean()\n",
    "\n",
    "        # Store results for each weight combination\n",
    "        weight_results.append({\n",
    "            'ICD9_mortality_rate_weight': icd9_w,\n",
    "            'Gender_weight': gender_w,                \n",
    "            'AUC_score': mean_auc\n",
    "        })\n",
    "\n",
    "# Convert results to a DataFrame for easier comparison\n",
    "import pandas as pd\n",
    "results_df = pd.DataFrame(weight_results)\n",
    "\n",
    "# Sort and display top AUC scores with their respective weights\n",
    "top_results = results_df.sort_values(by='AUC_score', ascending=False).head(10)\n",
    "print(top_results)\n"
   ]
  },
  {
   "cell_type": "markdown",
   "metadata": {},
   "source": [
    "In conclusion, the best Model we can fit is a KNN with 95 neighbors, applying weights of 15, 3 and 2 to icd9_mortality_rate , gender and index (respectively), achieving a Cross validated AUC score of 0.742"
   ]
  }
 ],
 "metadata": {
  "colab": {
   "authorship_tag": "ABX9TyPfT4lIW3dpu7THPBn/bz3M",
   "provenance": []
  },
  "kernelspec": {
   "display_name": "Python 3",
   "name": "python3"
  },
  "language_info": {
   "codemirror_mode": {
    "name": "ipython",
    "version": 3
   },
   "file_extension": ".py",
   "mimetype": "text/x-python",
   "name": "python",
   "nbconvert_exporter": "python",
   "pygments_lexer": "ipython3",
   "version": "3.11.10"
  }
 },
 "nbformat": 4,
 "nbformat_minor": 0
}
